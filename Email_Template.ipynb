{
  "nbformat": 4,
  "nbformat_minor": 0,
  "metadata": {
    "colab": {
      "name": "Untitled3.ipynb",
      "provenance": [],
      "collapsed_sections": [],
      "authorship_tag": "ABX9TyMNO/4n3TzYCyVaRf2G68wm",
      "include_colab_link": true
    },
    "kernelspec": {
      "name": "python3",
      "display_name": "Python 3"
    },
    "accelerator": "GPU"
  },
  "cells": [
    {
      "cell_type": "markdown",
      "metadata": {
        "id": "view-in-github",
        "colab_type": "text"
      },
      "source": [
        "<a href=\"https://colab.research.google.com/github/Gaurav7004/Django_Projects/blob/master/Email_Template.ipynb\" target=\"_parent\"><img src=\"https://colab.research.google.com/assets/colab-badge.svg\" alt=\"Open In Colab\"/></a>"
      ]
    },
    {
      "cell_type": "code",
      "metadata": {
        "id": "1bfmxPbllfdW",
        "colab_type": "code",
        "colab": {}
      },
      "source": [
        "#from google.colab import files\n",
        "#files.upload()\n",
        "\n",
        "import csv, smtplib, ssl\n",
        "\n",
        "with open(\"contacts_file.csv\") as file:\n",
        "    reader = csv.reader(file)\n",
        "    next(reader)  # Skip header row\n",
        "    for name, email, grade in reader:\n",
        "        print(f\"Sending email to {name}\")\n",
        "        # Send email here\n",
        "\n",
        "message = \"\"\"Subject: Your grade\n",
        "\n",
        "Hi {name}, your grade is {grade}\"\"\"\n",
        "from_address = \"my@gmail.com\"\n",
        "password = input(\"Type your password and press enter: \")\n",
        "\n",
        "context = ssl.create_default_context()\n",
        "with smtplib.SMTP_SSL(\"smtp.gmail.com\", 465, context=context) as server:\n",
        "    server.login(from_address, password)\n",
        "    with open(\"contacts_file.csv\") as file:\n",
        "        reader = csv.reader(file)\n",
        "        next(reader)  # Skip header row\n",
        "        for name, email, grade in reader:\n",
        "            server.sendmail(\n",
        "                from_address,\n",
        "                email,\n",
        "                message.format(name=name,grade=grade),\n",
        "            )\n",
        "\n"
      ],
      "execution_count": 0,
      "outputs": []
    },
    {
      "cell_type": "code",
      "metadata": {
        "id": "PEYIMUbZl9QN",
        "colab_type": "code",
        "colab": {}
      },
      "source": [
        "import smtplib, ssl\n",
        "from email.mime.text import MIMEText\n",
        "from email.mime.multipart import MIMEMultipart\n",
        "\n",
        "sender_email = \"my@gmail.com\"\n",
        "receiver_email = \"your@gmail.com\"\n",
        "password = input(\"Type your password and press enter:\")\n",
        "\n",
        "message = MIMEMultipart(\"alternative\")\n",
        "message[\"Subject\"] = \"multipart test\"\n",
        "message[\"From\"] = sender_email\n",
        "message[\"To\"] = receiver_email\n",
        "\n",
        "# Create the plain-text and HTML version of your message\n",
        "text = \"\"\"\\\n",
        "Hi,\n",
        "How are you?\n",
        "\n",
        "www.google.com\"\"\"\n",
        "html = \"\"\"\\\n",
        "<html>\n",
        "  <body>\n",
        "    <p>Hi,<br>\n",
        "       How are you?<br>\n",
        "       <a href=\"http://www.google.com\">Real Python</a> \n",
        "       has many great tutorials.\n",
        "    </p>\n",
        "  </body>\n",
        "</html>\n",
        "\"\"\"\n",
        "\n",
        "# Turn these into plain/html MIMEText objects\n",
        "part1 = MIMEText(text, \"plain\")\n",
        "part2 = MIMEText(html, \"html\")\n",
        "\n",
        "# Add HTML/plain-text parts to MIMEMultipart message\n",
        "# The email client will try to render the last part first\n",
        "message.attach(part1)\n",
        "message.attach(part2)\n",
        "\n",
        "# Create secure connection with server and send email\n",
        "context = ssl.create_default_context()\n",
        "with smtplib.SMTP_SSL(\"smtp.gmail.com\", 465, context=context) as server:\n",
        "    server.login(sender_email, password)\n",
        "    server.sendmail(\n",
        "        sender_email, receiver_email, message.as_string()\n",
        "    )"
      ],
      "execution_count": 0,
      "outputs": []
    }
  ]
}